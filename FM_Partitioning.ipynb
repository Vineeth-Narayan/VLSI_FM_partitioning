{
  "nbformat": 4,
  "nbformat_minor": 0,
  "metadata": {
    "colab": {
      "name": "191EC260_191EC161_VLSI_CAD_ASSIGNMENT2_upload.ipynb",
      "provenance": [],
      "collapsed_sections": []
    },
    "kernelspec": {
      "name": "python3",
      "display_name": "Python 3"
    },
    "language_info": {
      "name": "python"
    }
  },
  "cells": [
    {
      "cell_type": "markdown",
      "source": [
        "VINEETH NARAYAN 191EC260\n",
        "\n",
        "ROHAN MALLYA 191EC161\n",
        "\n",
        "VLSI CAD ASSIGNMENT-2\n",
        "\n",
        "FM ALGORITHM\n",
        "\n",
        "22nd February,2022"
      ],
      "metadata": {
        "id": "oOMnxhnoBfZS"
      }
    },
    {
      "cell_type": "markdown",
      "source": [
        "FM Algorithm \n",
        "First we import all the required libraries for the assignment \n",
        "Matplotlib is used to draw various structures, and graphviz is used to make binary tree.\n"
      ],
      "metadata": {
        "id": "e_Mdpya6Xzj3"
      }
    },
    {
      "cell_type": "code",
      "execution_count": 51,
      "metadata": {
        "id": "UTIzB7t7Bakc"
      },
      "outputs": [],
      "source": [
        "import numpy as np      \n",
        "import math\n",
        "import matplotlib.pyplot as plt\n",
        "import graphviz\n",
        "import datetime"
      ]
    },
    {
      "cell_type": "code",
      "source": [
        "alternate=0\n",
        "start_h=0"
      ],
      "metadata": {
        "id": "5RoZ1g3eB7NB"
      },
      "execution_count": 52,
      "outputs": []
    },
    {
      "cell_type": "markdown",
      "source": [
        "Assignment Steps\n",
        "\n",
        "Steps:\n",
        "1)Read the inputs along with the adjacency matrix\n",
        "\n",
        "2)Develop a function to divide optimally into two parts with minimum cutsize ( FM algorithm)\n",
        "\n",
        "3) Run a depth first search Recursion, to partition the blocks optimally, till single block present in each partition.\n",
        "\n",
        "4) Print the outputs, in a presentable and understandable manner."
      ],
      "metadata": {
        "id": "Mwvl1COgc6Q2"
      }
    },
    {
      "cell_type": "markdown",
      "source": [
        "We define functions to remove unnecessasry characters like space and flower brackets from the input text file. "
      ],
      "metadata": {
        "id": "2WcLHTBMYLA7"
      }
    },
    {
      "cell_type": "code",
      "source": [
        "def remove(string):\n",
        "    return string.replace(\" \", \"\")\n",
        "def remove_end2(string):\n",
        "    return string.replace(\"}\", \"\")"
      ],
      "metadata": {
        "id": "A2ms8Z35KgdQ"
      },
      "execution_count": 53,
      "outputs": []
    },
    {
      "cell_type": "markdown",
      "source": [
        "1)Format of the input file : Input array on the first line and the Adjacency matrix starts from the 2nd line"
      ],
      "metadata": {
        "id": "NrA3fVIgHZOT"
      }
    },
    {
      "cell_type": "code",
      "source": [
        "#Please enter the input textfile directory below\n",
        "input_file_path='/content/input.txt'          #Input file is present in the shown directory which is open and read \n",
        "f = open(input_file_path, 'r+')\n",
        "Lines = f.readlines()\n",
        "my_file_data = Lines[0]\n",
        "f.close()\n",
        "#Removing spaces and brackets from text file\n",
        "my_file_data=remove(my_file_data)\n",
        "n=my_file_data[1]\n",
        "my_file_data=my_file_data.replace(\"\\n\", \"\")\n",
        "my_file_data=my_file_data[2:]\n",
        "my_file_data=remove_end2(my_file_data)\n",
        "array=my_file_data.split(\",{\")\n",
        "array1=[]\n",
        "list1=[]\n",
        "#Splitting the x and y coordinates and appending them into lists \n",
        "array=array[1:]\n",
        "for p in array:\n",
        "  str1=p.split(\",\")\n",
        "  list1.append( [int(str1[0]),int(str1[1])] )\n",
        "input=list1\n",
        "Lines=Lines[1:]\n",
        "adj_mat=[]\n",
        "for line in Lines:\n",
        "  line=line.replace(\"{\",\"\")\n",
        "  line=line.replace(\"}\",\"\")\n",
        "  line=line.replace(\"\\n\",\"\")\n",
        "  line=line.replace(\" \",\"\")\n",
        "  temp=[]\n",
        "  for char in line:\n",
        "   temp.append(int(char))\n",
        "  adj_mat.append(temp)"
      ],
      "metadata": {
        "id": "ztzjoeD8DEYN"
      },
      "execution_count": 54,
      "outputs": []
    },
    {
      "cell_type": "code",
      "source": [
        "input"
      ],
      "metadata": {
        "colab": {
          "base_uri": "https://localhost:8080/"
        },
        "id": "iDCtcTytSS2W",
        "outputId": "879ee9a4-f4c7-4a94-9321-9ad8fc28af55"
      },
      "execution_count": 55,
      "outputs": [
        {
          "output_type": "execute_result",
          "data": {
            "text/plain": [
              "[[10, 5], [8, 6], [4, 13], [10, 3], [8, 4], [4, 1]]"
            ]
          },
          "metadata": {},
          "execution_count": 55
        }
      ]
    },
    {
      "cell_type": "code",
      "source": [
        "adj_mat                          "
      ],
      "metadata": {
        "colab": {
          "base_uri": "https://localhost:8080/"
        },
        "id": "Jv-d5l74gyMZ",
        "outputId": "c97f7f64-3f6b-4390-a620-1bab1c0c49b3"
      },
      "execution_count": 56,
      "outputs": [
        {
          "output_type": "execute_result",
          "data": {
            "text/plain": [
              "[[0, 1, 3, 2, 4, 2],\n",
              " [1, 0, 3, 1, 2, 1],\n",
              " [3, 3, 0, 1, 1, 2],\n",
              " [2, 1, 1, 0, 2, 3],\n",
              " [4, 2, 1, 2, 0, 1],\n",
              " [2, 1, 2, 3, 1, 0]]"
            ]
          },
          "metadata": {},
          "execution_count": 56
        }
      ]
    },
    {
      "cell_type": "markdown",
      "source": [
        "Function to return set of indices of certain points  from the input array "
      ],
      "metadata": {
        "id": "NdzS5ZFN3vV-"
      }
    },
    {
      "cell_type": "code",
      "source": [
        "def give_index(array):\n",
        "  temp=[]\n",
        "  for obj in array:\n",
        "     t=input.index(obj)\n",
        "     temp.append(t)\n",
        "  return temp"
      ],
      "metadata": {
        "id": "pc9WLaXQ3uo1"
      },
      "execution_count": 57,
      "outputs": []
    },
    {
      "cell_type": "markdown",
      "source": [
        "The FM algorithm we have divided into the following functions\n",
        "\n",
        "1)Initialising into random partitions and gain buckets with apprropriate data structures.\n",
        "\n",
        "2) Moving a block as per the gain bucket(Whichever has maximum gain and is legal to be moved as per area constraints and being unlocked).\n",
        "\n",
        "3) Storing the cutsize/cost function in a stack.\n",
        "\n",
        "3) Updating the gain buckets and repeating the process till all blocks are locked.\n",
        "\n",
        "4) Finding the best configuration with least cost/cutsize\n",
        "\n"
      ],
      "metadata": {
        "id": "gKYuA90VZOIr"
      }
    },
    {
      "cell_type": "markdown",
      "source": [
        "1)Initialising phase:\n",
        "\n",
        "We take the input which is to be optimally partitioned into two parts.\n",
        "First in function Init \n",
        "We randomly first assign blocks into part one and part two.\n",
        "\n"
      ],
      "metadata": {
        "id": "MjhMDXDretJs"
      }
    },
    {
      "cell_type": "code",
      "source": [
        "def init(inp):  \n",
        "  \n",
        "  part1=[]\n",
        "  part2=[] \n",
        "  N=len(inp)\n",
        "  for i in range(N):\n",
        "   if(i<N/2):\n",
        "     part1.append(inp[i])\n",
        "   else:\n",
        "     part2.append(inp[i])\n",
        "  initial_rt=[]\n",
        "  initial_lt=[]  \n",
        "\n",
        " #scores for the left partition                                  # Calculating gains in the left gain bucket\n",
        "  for pair1 in part1:\n",
        "   g=0                                                          # Area of block * No of edges incident is taken as gain. Edges outside the partition are positive. Edges within partition are negative.\n",
        "   positive=0\n",
        "   negative=0\n",
        "   i=inp.index(pair1)\n",
        "   for pair2 in part2:                                          #interating through all points, and through their adjacent matrices finds all the edges with weights and accumulating them.\n",
        "    j=inp.index(pair2)\n",
        "    positive=positive+(adj_mat[i][j]*pair2[0]*pair2[1]) \n",
        "   for pair3 in part1:\n",
        "    if(pair3==pair1):\n",
        "      continue\n",
        "    j=inp.index(pair3)\n",
        "    negative=negative+(adj_mat[i][j]*pair3[0]*pair3[1]) \n",
        "   g=positive-negative\n",
        "   initial_lt.append((g,pair1,1))                              #Appending each block with its ( gain, width height,  locked/ unlocked)     unlocked = 1, locked =0\n",
        "\n",
        " # scores for the right partition                               #Similar process followed in right gain bucket \n",
        "  for pair1 in part2:\n",
        "   g=0\n",
        "   positive=0\n",
        "   negative=0\n",
        "   i=inp.index(pair1)\n",
        "   for pair2 in part1:\n",
        "    j=inp.index(pair2)\n",
        "    positive=positive+(adj_mat[i][j]*pair2[0]*pair2[1])\n",
        "   for pair3 in part2:\n",
        "    if(pair3==pair1):\n",
        "      continue\n",
        "    j=inp.index(pair3)\n",
        "    negative=negative+(adj_mat[i][j]*pair3[0]*pair3[1]) \n",
        "   g=positive-negative\n",
        "   initial_rt.append((g,pair1,1))\n",
        "  initial_lt\n",
        "  lt=np.array(initial_lt)\n",
        "  initial_rt\n",
        "  rt=np.array(initial_rt)\n",
        "  rt = rt[np.argsort(rt[:,0])]                              #Once the appending is done, we sort the gain bucket as per the gains on both buckets, so that the top of the list contains the highest gain block.\n",
        "  rt=rt[::-1]\n",
        "  lt=lt[np.argsort(lt[:,0])]\n",
        "  lt=lt[::-1]\n",
        "  lt=lt.tolist()\n",
        "  rt=rt.tolist()\n",
        " \n",
        "  return lt, rt"
      ],
      "metadata": {
        "id": "LGUlQz9OBo6g"
      },
      "execution_count": 58,
      "outputs": []
    },
    {
      "cell_type": "markdown",
      "source": [
        "2) Moving block as per gain and constraints. \n"
      ],
      "metadata": {
        "id": "ujF6Sp7Gg0d1"
      }
    },
    {
      "cell_type": "code",
      "source": [
        "def move(inp,lt,rt,min_score,alternate, log1):      #Inp is the input blocks,  lt and rt the gain buckets,  min_score is the cutsize,  alternate =Decides which gain bucket to move block from to optimize area constraints.\n",
        "\n",
        "  for moves in range(len(inp)):               #Since no area constraints are given the problem statement, we have given constraint of maintaining equal blocks with a tolerence of one on the two sides of the partition.\n",
        "    if(len(lt)==len(rt)):\n",
        "      for i in range(len(lt)):                #Here we count the no of blocks on both sides of the parition and decide alternate variable accordingly.\n",
        "        if(lt[i][2]==1):      \n",
        "          my_point_l=lt[i]\n",
        "          break\n",
        "      for i in range(len(rt)):\n",
        "        if(rt[i][2]==1):         \n",
        "          my_point_r=rt[i]\n",
        "          break \n",
        "      if(my_point_l>my_point_r):    \n",
        "        alternate=0\n",
        "      \n",
        "      else:\n",
        "        alternate=1\n",
        "    \n",
        "    elif(len(lt)>len(rt)):\n",
        "      alternate=0\n",
        "    \n",
        "    else:\n",
        "      alternate=1\n",
        "    \n",
        "    if(alternate==0):\n",
        "     for i in range(len(lt)):\n",
        "       if(lt[i][2]==1):\n",
        "         lt[i][2]=0\n",
        "         my_point=lt[i]\n",
        "         break\n",
        "    \n",
        "     new_left_up,new_right_up=shift_update(lt,rt,my_point,alternate,inp)                  #Once movement is done, we update the points on gain buckets, through the shift_update function and then the gains in the update_gain nested function.\n",
        "     \n",
        "     score_up=score_function(new_left_up,new_right_up)                                    #Score_function, gives the new cost/ cutsize which is appended on the stack with coniguration.\n",
        "     log1.append(( new_left_up,new_right_up,score_up,len(new_left_up)-len(new_right_up))) # appending it in the log book,  we append this configuration on a stack, to later choose the best configuration.\n",
        "     \n",
        "     if(score_up<min_score):\n",
        "       min_score=score_up\n",
        "     alternate=1\n",
        "     new_left_up=np.array(new_left_up)\n",
        "     new_right_up=np.array(new_right_up)                                        \n",
        "     lt=new_left_up[np.argsort(new_left_up[:,0])] \n",
        "     rt=new_right_up[np.argsort(new_right_up[:,0])]\n",
        "     lt=lt.tolist()\n",
        "     rt=rt.tolist() \n",
        "\n",
        "    else: \n",
        "\n",
        "     for i in range(len(rt)):\n",
        "       if(rt[i][2]==1):                                                               #Similarly exact same thing is repeated on the right gain bucket, if the block was moved from the right to left side of the partition.\n",
        "         rt[i][2]=0\n",
        "         my_point=rt[i]\n",
        "         break \n",
        "    \n",
        "     new_left_down,new_right_down=shift_update(lt,rt,my_point,alternate,inp)\n",
        "     score_down=score_function(new_left_down,new_right_down)\n",
        "     log1.append( ( new_left_down,new_right_down,score_down,len(new_left_down)-len(new_right_down) ) ) # appending it in the l\n",
        "     if(score_down<min_score):\n",
        "       min_score=score_down\n",
        "     \n",
        "     new_left_down=np.array(new_left_down)\n",
        "     new_right_down=np.array(new_right_down)\n",
        "     lt=new_left_down[np.argsort(new_left_down[:,0]) ] \n",
        "     rt=new_right_down[np.argsort(new_right_down[:,0])]\n",
        "     lt=lt.tolist()\n",
        "     rt=rt.tolist()\n",
        "  return lt,rt,min_score, log1\n",
        "\n",
        " "
      ],
      "metadata": {
        "id": "3V_xlc_JJDIN"
      },
      "execution_count": 59,
      "outputs": []
    },
    {
      "cell_type": "markdown",
      "source": [
        "3)Shift update fuction updates the gains of the gain bucket and also moves the points on the data structures based on if it was moved from left bucket or right bucket."
      ],
      "metadata": {
        "id": "NQzWeqwPiskM"
      }
    },
    {
      "cell_type": "code",
      "source": [
        "def shift_update(lt1, rt1, my_point1 ,alternate1,inp):\n",
        " # move this to the other side\n",
        " # so make new buckets new_lt and new_rt \n",
        " \n",
        " if(alternate1==0):\n",
        "   lt1.remove(my_point1)                                                        #Removing point from left bucket and adding in right \n",
        "   rt1.append(my_point1)\n",
        " else:\n",
        "   rt1.remove(my_point1)\n",
        "   lt1.append(my_point1)                                                          #Removing point from right bucket and adding in left\n",
        " new_lt,new_rt=update_gains(lt1,rt1,inp)\n",
        " return new_lt,new_rt"
      ],
      "metadata": {
        "id": "SgKN_AL0HtpS"
      },
      "execution_count": 60,
      "outputs": []
    },
    {
      "cell_type": "markdown",
      "source": [
        "Based on the new configuration we again find the new gains."
      ],
      "metadata": {
        "id": "g1N4GhN1jLH2"
      }
    },
    {
      "cell_type": "code",
      "source": [
        "def update_gains(list1 ,list2,inp):\n",
        " new_list_left=[]\n",
        " new_list_right=[]\n",
        " # for the left side\n",
        " for pair1 in list1:\n",
        "  total=0\n",
        "  positive=0\n",
        "  negative=0\n",
        "  in1=inp.index(pair1[1])\n",
        "  for pair2 in list2:\n",
        "   in2=inp.index(pair2[1])\n",
        "   positive=positive+(adj_mat[in1][in2]*pair2[1][0]*pair2[1][1])                    #This is exactly the same way, gains were found in the initialization phase.\n",
        "  for pair3 in list1:                                                               #With total gain being positive- negative.   Positive - Edges out of the partition. Negative - Edges within the partition.\n",
        "   if(pair3==pair1):\n",
        "      continue                                                                      #interating through all points, and through their adjacent matrices finds all the edges with weights and accumulating them.\n",
        "   j=inp.index(pair3[1])\n",
        "   negative=negative+(adj_mat[in1][j]*pair3[1][0]*pair3[1][1]) \n",
        "  total=positive-negative\n",
        "  new_list_left.append((total,pair1[1],pair1[2]))\n",
        " # for the right side                                                               #Same procedure on the right side.\n",
        " for pair1 in list2:\n",
        "  total1=0\n",
        "  positive1=0\n",
        "  negative1=0\n",
        "  in1=inp.index(pair1[1])\n",
        "  for pair2 in list1:\n",
        "   in2=inp.index(pair2[1])\n",
        "   positive1=positive1+(adj_mat[in1][in2]*pair2[1][0]*pair2[1][1])                  \n",
        "  for pair3 in list2:\n",
        "   if(pair3==pair1):\n",
        "      continue\n",
        "   j=inp.index(pair3[1])\n",
        "   negative1=negative1+(adj_mat[in1][j]*pair3[1][0]*pair3[1][1]) \n",
        "  total1=positive1-negative1\n",
        "  new_list_right.append((total1,pair1[1],pair1[2])) \n",
        " \n",
        " #returning the lists with updated gains \n",
        " return new_list_left,new_list_right"
      ],
      "metadata": {
        "id": "bghFPOSCIIZE"
      },
      "execution_count": 61,
      "outputs": []
    },
    {
      "cell_type": "markdown",
      "source": [
        "Finally the cost function, which finds the total cutsize of the particular partition.  \n",
        "Iterating through all points and adding edges outside partition"
      ],
      "metadata": {
        "id": "LH-QFdwikWC-"
      }
    },
    {
      "cell_type": "code",
      "source": [
        "def score_function(list11,list21):\n",
        "  score1=0\n",
        "  \n",
        "  for pair11 in list11:\n",
        "   in1=input.index(pair11[1])\n",
        "   for pair21 in list21:\n",
        "    in2=input.index(pair21[1])\n",
        "    score1=score1+adj_mat[in1][in2]\n",
        "  return score1  "
      ],
      "metadata": {
        "id": "2yEz4_SVIAZg"
      },
      "execution_count": 62,
      "outputs": []
    },
    {
      "cell_type": "markdown",
      "source": [
        "This is a simple logging function which stores scores in a stack, which we can later use to decide the best configuration."
      ],
      "metadata": {
        "id": "tFrDuwj1lO0I"
      }
    },
    {
      "cell_type": "code",
      "source": [
        "def first_log(lt1, rt1, log):\n",
        "  min_score=score_function(lt1,rt1)\n",
        "  \n",
        "  log.append((lt1,rt1,score_function(lt1,rt1),len(lt1)-len(rt1)))\n",
        "  return min_score, log"
      ],
      "metadata": {
        "id": "Bav-FNihIPGT"
      },
      "execution_count": 63,
      "outputs": []
    },
    {
      "cell_type": "markdown",
      "source": [
        "Once all points are locked.\n",
        "\n",
        "\n",
        "We now choose the best configuration based on cutsize."
      ],
      "metadata": {
        "id": "bD242pAalbfq"
      }
    },
    {
      "cell_type": "code",
      "source": [
        "def printing(log1):\n",
        "  l=[]\n",
        "  r=[]\n",
        "  \n",
        "  min=1000\n",
        "  for steps in log1:\n",
        "    if(steps[2]<min):\n",
        "      min=steps[2]\n",
        "  for st in log1:\n",
        "    if(st[2 ]==min):\n",
        "      print('partition number 1 :',st[0])\n",
        "      print('partition number 2 :',st[1])\n",
        "      print('cutsize = ',st[2])\n",
        "      l=st[0]\n",
        "      r=st[1]\n",
        "      break\n",
        "  return l, r, log1"
      ],
      "metadata": {
        "id": "Onm6ju0oKm3o"
      },
      "execution_count": 64,
      "outputs": []
    },
    {
      "cell_type": "markdown",
      "source": [
        "-----------------------------------------------------------------------------------------------------------------------------------------------------------------------------------------------------------------------------------------------------------------------------------------------------------------------------------\n",
        "\n",
        "---\n",
        "\n",
        "\n",
        "\n",
        "We now go to next step of recursion and printing outputs in presentable manner."
      ],
      "metadata": {
        "id": "bIFPQXDnlu0n"
      }
    },
    {
      "cell_type": "markdown",
      "source": [
        "The below two functions weight and check are for the sole purpose of printing the weight of each partition. This is done using graphviz library. \n",
        "\n",
        "In the below functions we have just ensured that each node is unique, if not unique ( block already present in listing[] list), then we just append a ' ' space character to make it unique, so that the nodes in the output graph don't overlap."
      ],
      "metadata": {
        "id": "3DYgF-iymhBY"
      }
    },
    {
      "cell_type": "code",
      "source": [
        "def weight(array,k):\n",
        "  sum=0\n",
        "  count=0\n",
        "  for i in array:\n",
        "    sum=sum+i[0]*i[1]                       #Calculating weight \n",
        "  for j in range (len(listing)):\n",
        "    if(sum==listing[j]):\n",
        "      count=count+1                          #checking uniqueness\n",
        "  if(k==1):\n",
        "    listing.append(sum)\n",
        "  s= str(sum)\n",
        "  while(count>0):\n",
        "    s=s + ' '                                #Making the node unique\n",
        "    count=count-1\n",
        "  return s"
      ],
      "metadata": {
        "id": "TTAdR7q1vdw4"
      },
      "execution_count": 65,
      "outputs": []
    },
    {
      "cell_type": "markdown",
      "source": [
        "Similar process as above but for condition when only 2 blocks to be partitioned."
      ],
      "metadata": {
        "id": "iAXBM17BoUka"
      }
    },
    {
      "cell_type": "code",
      "source": [
        "def check(sum,k):\n",
        "  count=0\n",
        "  for j in range (len(listing)):\n",
        "    if(sum==listing[j]):\n",
        "      count=count+1\n",
        "  \n",
        "  listing.append(sum)\n",
        "  s= str(sum)\n",
        "  while(count>0):\n",
        "    s=s + ' '\n",
        "    count=count-1\n",
        "  return s\n"
      ],
      "metadata": {
        "id": "LFBERMzH7by5"
      },
      "execution_count": 66,
      "outputs": []
    },
    {
      "cell_type": "code",
      "source": [
        "listing=[]"
      ],
      "metadata": {
        "id": "SeZdX-383hcE"
      },
      "execution_count": 67,
      "outputs": []
    },
    {
      "cell_type": "markdown",
      "source": [
        "***MAIN RECURSION FUNCTION ***\n",
        "\n",
        "\n",
        "We have also included the outputs within the same recursion function for ease and efficiency"
      ],
      "metadata": {
        "id": "OeVRAZgZogCp"
      }
    },
    {
      "cell_type": "markdown",
      "source": [
        "\n",
        "\n",
        "Here we have used Depth first search to recurse thorugh till only one block is left per partition.\n",
        "\n",
        "For printing partition boxes we have used HTML\n",
        " \n",
        "For binary trees, we have use graphviz"
      ],
      "metadata": {
        "id": "fCPFiaLVp8iv"
      }
    },
    {
      "cell_type": "code",
      "source": [
        "dot = graphviz.Digraph('Partition Tree', comment='The Round Table')\n",
        "c = graphviz.Graph(name='weights_of_partition', node_attr={'shape': 'box'})                                      #Graphviz used to plot the partition in form of binary tree.\n",
        "h = graphviz.Graph('output_partition_boxes',node_attr={'shape': 'box'}) \n",
        "final=[]\n",
        "apna_array=[]\n",
        "def recurse(stack):\n",
        "  log=[]\n",
        "  global start_h\n",
        "  \n",
        "  inp1=stack\n",
        "  lt, rt =init(inp1)  \n",
        "                                                              \n",
        "  min_score, log= first_log(lt,rt,log)                                             #First initialising\n",
        " \n",
        "  alt=0\n",
        " \n",
        "  lt,rt,min_score, log=move(inp1,lt,rt,min_score,alt,log)                            #Moving as per gain bucket, updating gains\n",
        "  min=1000\n",
        "  log.reverse()\n",
        "  left, right, log = printing(log)                                                 #Getting the final partition. this left and right also contains, the locked, unlocked and scores.\n",
        "  \n",
        "  ###################################################\n",
        "  apna_lt=[]                                                                         #We create apna_lt and apna_rt which contains only the points of lt and rt partitions.\n",
        "  apna_rt=[]\n",
        "  for apna in left:\n",
        "    apna_lt.append(apna[1])\n",
        "  for desi in right:\n",
        "    apna_rt.append(desi[1])\n",
        "\n",
        "    \n",
        "  apna_array.append((apna_lt,apna_rt))                                              #Now with weight functions and grpahviz we plot the graphs for this particular parttion \n",
        "  area1=weight(stack,1)\n",
        "  area2=weight(apna_lt,0)\n",
        "  area3=weight(apna_rt,0)\n",
        "\n",
        "  c.edge(area1,area2)\n",
        "  c.edge(area1,area3)\n",
        "  dot.edge(str(stack),str(apna_lt))\n",
        "  dot.edge(str(stack),str(apna_rt))\n",
        "  \n",
        "  str1=str(give_index(apna_lt))\n",
        "  str2=str(give_index(apna_rt))\n",
        "\n",
        "  h.node( name=str(start_h),label='''<<TABLE>\n",
        "   <TR>\n",
        "    <TD>'''+str1+'''</TD>\n",
        "    <TD>'''+str2+'''</TD>\n",
        "   </TR>\n",
        "   </TABLE>>''')\n",
        "  start_h=start_h+1\n",
        "  #Above HTML code is to graphically plot the output the partition boxes\n",
        "  #TR TD are used to plot a table via new row and new data\n",
        "  #####################\n",
        "  final.append((left,right))\n",
        "  if(len(left)!=1):                                                                   #If there is only 1 block left, theres no more partitions to be done\n",
        "    if(len(left)==2):                                                                 #If there are two blocks, we dont have to run the partition, directly divide to left and right \n",
        "      final.append((left[0],left[1]))\n",
        "      apna_array.append((left[0][1],left[1][1]))\n",
        "      apna_array.append(left[0][1])\n",
        "      apna_array.append(left[1][1])\n",
        "      area1=weight(apna_lt,1)\n",
        "      area2=apna_lt[0][0]*apna_lt[0][1]\n",
        "      a2=check(area2,0)\n",
        "      area3=apna_lt[1][0]*apna_lt[1][1]\n",
        "      a3=check(area3,0)\n",
        "\n",
        "      c.edge(area1,a2)                                                                 #Drawing edges as per the weights in the binary tree\n",
        "      c.edge(area1,a3)\n",
        "      dot.edge(str(apna_lt),str(apna_lt[0]))\n",
        "      dot.edge(str(apna_lt),str(apna_lt[1]))\n",
        "      str1=str(input.index(apna_lt[0]))\n",
        "      str2=str(input.index(apna_lt[1]))\n",
        "      h.node( name=str(start_h), label='''<<TABLE>\n",
        "        <TR>\n",
        "          <TD>'''+str1+'''</TD>\n",
        "          <TD>'''+str2+'''</TD>\n",
        "        </TR>\n",
        "        </TABLE>>''')\n",
        "      start_h=start_h+1\n",
        "      p1=input.index(apna_lt[0])\n",
        "      p2=input.index(apna_lt[1])\n",
        "      print('partition number 1 :',apna_lt[0])\n",
        "      print('partition number 2 :',apna_lt[1])\n",
        "      print('cutsize = ',adj_mat[p1][p2])\n",
        "      print('direct partition only 2 blocks present this side')\n",
        "    else:\n",
        "      stack=[]                                                                          #IF THERE ARE MORE THAN TWO BLOCKS, WE TAKE COORDINATES FROM LEFT PARTITION BY APPENDING THE ABOVE PARTITION SINCE IT IS A DEPTH FIRST SEARCH RECURSION\n",
        "      log=[]\n",
        "      k= len(left)\n",
        "      for i in range(k):\n",
        "       stack.append(left[i][1])\n",
        "      recurse(stack)\n",
        "  else:\n",
        "    final.append((left))\n",
        "    apna_array.append(left[0][1])\n",
        "    print(apna_rt)\n",
        "    print('one block present here only, no more partitions')\n",
        "  if(len(right)!=1):                                                                 #Similary to left side, right side run.\n",
        "    if(len(right)==2):\n",
        "      final.append((right[0],right[1]))\n",
        "      apna_array.append((right[0][1],right[1][1]))\n",
        "      apna_array.append(right[0][1])\n",
        "      apna_array.append(right[1][1])\n",
        "      area1=weight(apna_rt,1)\n",
        "      area2=apna_rt[0][0]*apna_rt[0][1]\n",
        "      a2=check(area2,0)\n",
        "      area3=apna_rt[1][0]*apna_rt[1][1]\n",
        "      a3=check(area3,0)\n",
        "\n",
        "      c.edge(area1,a2)\n",
        "      c.edge(area1,a3)\n",
        "      dot.edge(str(apna_rt),str(apna_rt[0]))\n",
        "      dot.edge(str(apna_rt),str(apna_rt[1]))\n",
        "\n",
        "      str1=str(input.index(apna_rt[0]))\n",
        "      str2=str(input.index(apna_rt[1]))\n",
        "      h.node( name=str(start_h),label='''<<TABLE>\n",
        "        <TR>\n",
        "          <TD>'''+str1+'''</TD>\n",
        "          <TD>'''+str2+'''</TD>\n",
        "        </TR>\n",
        "        </TABLE>>''')\n",
        "      #The above is the HTML code but for the case where we have only 2 blocks to be partitioned.\n",
        "      start_h=start_h+1\n",
        "      p1=input.index(apna_rt[0])\n",
        "      p2=input.index(apna_rt[1])\n",
        "      print('partition number 1 :',apna_rt[0])\n",
        "      print('partition number 2 :',apna_rt[1])\n",
        "      print('cutsize = ',adj_mat[p1][p2])\n",
        "      print('direct partition only 2 blocks present this side')\n",
        "    else:\n",
        "      stack=[]\n",
        "      log=[]\n",
        "      l= len(right)\n",
        "      for i in range(l):\n",
        "        stack.append(right[i][1])\n",
        "      recurse(stack)\n",
        "  else:\n",
        "    final.append((right))\n",
        "    apna_array.append(right[0][1])\n",
        "    print(apna_rt)\n",
        "    print('one block present here only, no more partitions')\n",
        "    \n"
      ],
      "metadata": {
        "id": "9ptOPdGC_pB6"
      },
      "execution_count": 68,
      "outputs": []
    },
    {
      "cell_type": "code",
      "source": [
        "stack=[]\n",
        "stack=input\n",
        "recurse(stack)"
      ],
      "metadata": {
        "colab": {
          "base_uri": "https://localhost:8080/"
        },
        "id": "w650GITXXmCN",
        "outputId": "d565aae4-db15-401f-9a6d-67683722fdd1"
      },
      "execution_count": 69,
      "outputs": [
        {
          "output_type": "stream",
          "name": "stdout",
          "text": [
            "partition number 1 : [(-264, [10, 5], 1), (-236, [8, 6], 1), (-288, [4, 13], 1), (-284, [8, 4], 0)]\n",
            "partition number 2 : [(194, [4, 1], 1), (252, [10, 3], 1)]\n",
            "cutsize =  12\n",
            "partition number 1 : [(-172, [10, 5], 1), (-38, [4, 13], 0), (-104, [8, 4], 0)]\n",
            "partition number 2 : [(238, [8, 6], 0)]\n",
            "cutsize =  6\n",
            "partition number 1 : [(-44, [10, 5], 1), (6, [8, 4], 0)]\n",
            "partition number 2 : [(146, [4, 13], 0)]\n",
            "cutsize =  4\n",
            "partition number 1 : [10, 5]\n",
            "partition number 2 : [8, 4]\n",
            "cutsize =  4\n",
            "direct partition only 2 blocks present this side\n",
            "[[4, 13]]\n",
            "one block present here only, no more partitions\n",
            "[[8, 6]]\n",
            "one block present here only, no more partitions\n",
            "partition number 1 : [4, 1]\n",
            "partition number 2 : [10, 3]\n",
            "cutsize =  3\n",
            "direct partition only 2 blocks present this side\n"
          ]
        },
        {
          "output_type": "stream",
          "name": "stderr",
          "text": [
            "/usr/local/lib/python3.7/dist-packages/ipykernel_launcher.py:48: VisibleDeprecationWarning: Creating an ndarray from ragged nested sequences (which is a list-or-tuple of lists-or-tuples-or ndarrays with different lengths or shapes) is deprecated. If you meant to do this, you must specify 'dtype=object' when creating the ndarray.\n",
            "/usr/local/lib/python3.7/dist-packages/ipykernel_launcher.py:50: VisibleDeprecationWarning: Creating an ndarray from ragged nested sequences (which is a list-or-tuple of lists-or-tuples-or ndarrays with different lengths or shapes) is deprecated. If you meant to do this, you must specify 'dtype=object' when creating the ndarray.\n",
            "/usr/local/lib/python3.7/dist-packages/ipykernel_launcher.py:61: VisibleDeprecationWarning: Creating an ndarray from ragged nested sequences (which is a list-or-tuple of lists-or-tuples-or ndarrays with different lengths or shapes) is deprecated. If you meant to do this, you must specify 'dtype=object' when creating the ndarray.\n",
            "/usr/local/lib/python3.7/dist-packages/ipykernel_launcher.py:62: VisibleDeprecationWarning: Creating an ndarray from ragged nested sequences (which is a list-or-tuple of lists-or-tuples-or ndarrays with different lengths or shapes) is deprecated. If you meant to do this, you must specify 'dtype=object' when creating the ndarray.\n",
            "/usr/local/lib/python3.7/dist-packages/ipykernel_launcher.py:40: VisibleDeprecationWarning: Creating an ndarray from ragged nested sequences (which is a list-or-tuple of lists-or-tuples-or ndarrays with different lengths or shapes) is deprecated. If you meant to do this, you must specify 'dtype=object' when creating the ndarray.\n",
            "/usr/local/lib/python3.7/dist-packages/ipykernel_launcher.py:41: VisibleDeprecationWarning: Creating an ndarray from ragged nested sequences (which is a list-or-tuple of lists-or-tuples-or ndarrays with different lengths or shapes) is deprecated. If you meant to do this, you must specify 'dtype=object' when creating the ndarray.\n"
          ]
        }
      ]
    },
    {
      "cell_type": "code",
      "source": [
        "print(' PARTITIONS REPRESENTATION')\n",
        "dot"
      ],
      "metadata": {
        "colab": {
          "base_uri": "https://localhost:8080/",
          "height": 481
        },
        "id": "DEH3aJfhBZBG",
        "outputId": "74f0fef6-3692-4f3f-c314-66e63583f066"
      },
      "execution_count": 70,
      "outputs": [
        {
          "output_type": "stream",
          "name": "stdout",
          "text": [
            " PARTITIONS REPRESENTATION\n"
          ]
        },
        {
          "output_type": "execute_result",
          "data": {
            "text/plain": [
              "<graphviz.dot.Digraph at 0x7f65745b3690>"
            ],
            "image/svg+xml": "<?xml version=\"1.0\" encoding=\"UTF-8\" standalone=\"no\"?>\n<!DOCTYPE svg PUBLIC \"-//W3C//DTD SVG 1.1//EN\"\n \"http://www.w3.org/Graphics/SVG/1.1/DTD/svg11.dtd\">\n<!-- Generated by graphviz version 2.40.1 (20161225.0304)\n -->\n<!-- Title: Partition Tree Pages: 1 -->\n<svg width=\"574pt\" height=\"332pt\"\n viewBox=\"0.00 0.00 573.79 332.00\" xmlns=\"http://www.w3.org/2000/svg\" xmlns:xlink=\"http://www.w3.org/1999/xlink\">\n<g id=\"graph0\" class=\"graph\" transform=\"scale(1 1) rotate(0) translate(4 328)\">\n<title>Partition Tree</title>\n<polygon fill=\"#ffffff\" stroke=\"transparent\" points=\"-4,4 -4,-328 569.7935,-328 569.7935,4 -4,4\"/>\n<!-- [[10, 5], [8, 6], [4, 13], [10, 3], [8, 4], [4, 1]] -->\n<g id=\"node1\" class=\"node\">\n<title>[[10, 5], [8, 6], [4, 13], [10, 3], [8, 4], [4, 1]]</title>\n<ellipse fill=\"none\" stroke=\"#000000\" cx=\"369.3968\" cy=\"-306\" rx=\"178.9686\" ry=\"18\"/>\n<text text-anchor=\"middle\" x=\"369.3968\" y=\"-302.3\" font-family=\"Times,serif\" font-size=\"14.00\" fill=\"#000000\">[[10, 5], [8, 6], [4, 13], [10, 3], [8, 4], [4, 1]]</text>\n</g>\n<!-- [[10, 5], [8, 6], [4, 13], [8, 4]] -->\n<g id=\"node2\" class=\"node\">\n<title>[[10, 5], [8, 6], [4, 13], [8, 4]]</title>\n<ellipse fill=\"none\" stroke=\"#000000\" cx=\"265.3968\" cy=\"-234\" rx=\"122.6784\" ry=\"18\"/>\n<text text-anchor=\"middle\" x=\"265.3968\" y=\"-230.3\" font-family=\"Times,serif\" font-size=\"14.00\" fill=\"#000000\">[[10, 5], [8, 6], [4, 13], [8, 4]]</text>\n</g>\n<!-- [[10, 5], [8, 6], [4, 13], [10, 3], [8, 4], [4, 1]]&#45;&gt;[[10, 5], [8, 6], [4, 13], [8, 4]] -->\n<g id=\"edge1\" class=\"edge\">\n<title>[[10, 5], [8, 6], [4, 13], [10, 3], [8, 4], [4, 1]]&#45;&gt;[[10, 5], [8, 6], [4, 13], [8, 4]]</title>\n<path fill=\"none\" stroke=\"#000000\" d=\"M343.4215,-288.0171C330.1684,-278.8419 313.8766,-267.563 299.614,-257.6888\"/>\n<polygon fill=\"#000000\" stroke=\"#000000\" points=\"301.2552,-254.5682 291.041,-251.7537 297.2707,-260.3235 301.2552,-254.5682\"/>\n</g>\n<!-- [[4, 1], [10, 3]] -->\n<g id=\"node3\" class=\"node\">\n<title>[[4, 1], [10, 3]]</title>\n<ellipse fill=\"none\" stroke=\"#000000\" cx=\"473.3968\" cy=\"-234\" rx=\"67.6881\" ry=\"18\"/>\n<text text-anchor=\"middle\" x=\"473.3968\" y=\"-230.3\" font-family=\"Times,serif\" font-size=\"14.00\" fill=\"#000000\">[[4, 1], [10, 3]]</text>\n</g>\n<!-- [[10, 5], [8, 6], [4, 13], [10, 3], [8, 4], [4, 1]]&#45;&gt;[[4, 1], [10, 3]] -->\n<g id=\"edge2\" class=\"edge\">\n<title>[[10, 5], [8, 6], [4, 13], [10, 3], [8, 4], [4, 1]]&#45;&gt;[[4, 1], [10, 3]]</title>\n<path fill=\"none\" stroke=\"#000000\" d=\"M395.3721,-288.0171C409.0519,-278.5464 425.9694,-266.8343 440.551,-256.7394\"/>\n<polygon fill=\"#000000\" stroke=\"#000000\" points=\"442.5946,-259.5815 448.8243,-251.0117 438.6101,-253.8262 442.5946,-259.5815\"/>\n</g>\n<!-- [[10, 5], [4, 13], [8, 4]] -->\n<g id=\"node4\" class=\"node\">\n<title>[[10, 5], [4, 13], [8, 4]]</title>\n<ellipse fill=\"none\" stroke=\"#000000\" cx=\"143.3968\" cy=\"-162\" rx=\"97.4827\" ry=\"18\"/>\n<text text-anchor=\"middle\" x=\"143.3968\" y=\"-158.3\" font-family=\"Times,serif\" font-size=\"14.00\" fill=\"#000000\">[[10, 5], [4, 13], [8, 4]]</text>\n</g>\n<!-- [[10, 5], [8, 6], [4, 13], [8, 4]]&#45;&gt;[[10, 5], [4, 13], [8, 4]] -->\n<g id=\"edge3\" class=\"edge\">\n<title>[[10, 5], [8, 6], [4, 13], [8, 4]]&#45;&gt;[[10, 5], [4, 13], [8, 4]]</title>\n<path fill=\"none\" stroke=\"#000000\" d=\"M235.5522,-216.3868C219.2127,-206.7438 198.7965,-194.6949 181.3362,-184.3905\"/>\n<polygon fill=\"#000000\" stroke=\"#000000\" points=\"182.9032,-181.2512 172.5122,-179.1829 179.3454,-187.2797 182.9032,-181.2512\"/>\n</g>\n<!-- [[8, 6]] -->\n<g id=\"node5\" class=\"node\">\n<title>[[8, 6]]</title>\n<ellipse fill=\"none\" stroke=\"#000000\" cx=\"296.3968\" cy=\"-162\" rx=\"37.0935\" ry=\"18\"/>\n<text text-anchor=\"middle\" x=\"296.3968\" y=\"-158.3\" font-family=\"Times,serif\" font-size=\"14.00\" fill=\"#000000\">[[8, 6]]</text>\n</g>\n<!-- [[10, 5], [8, 6], [4, 13], [8, 4]]&#45;&gt;[[8, 6]] -->\n<g id=\"edge4\" class=\"edge\">\n<title>[[10, 5], [8, 6], [4, 13], [8, 4]]&#45;&gt;[[8, 6]]</title>\n<path fill=\"none\" stroke=\"#000000\" d=\"M273.2194,-215.8314C276.6968,-207.7547 280.864,-198.0761 284.7,-189.1668\"/>\n<polygon fill=\"#000000\" stroke=\"#000000\" points=\"287.9441,-190.4824 288.6841,-179.9134 281.5147,-187.7141 287.9441,-190.4824\"/>\n</g>\n<!-- [4, 1] -->\n<g id=\"node10\" class=\"node\">\n<title>[4, 1]</title>\n<ellipse fill=\"none\" stroke=\"#000000\" cx=\"443.3968\" cy=\"-162\" rx=\"31.3957\" ry=\"18\"/>\n<text text-anchor=\"middle\" x=\"443.3968\" y=\"-158.3\" font-family=\"Times,serif\" font-size=\"14.00\" fill=\"#000000\">[4, 1]</text>\n</g>\n<!-- [[4, 1], [10, 3]]&#45;&gt;[4, 1] -->\n<g id=\"edge9\" class=\"edge\">\n<title>[[4, 1], [10, 3]]&#45;&gt;[4, 1]</title>\n<path fill=\"none\" stroke=\"#000000\" d=\"M465.8265,-215.8314C462.4612,-207.7547 458.4285,-198.0761 454.7163,-189.1668\"/>\n<polygon fill=\"#000000\" stroke=\"#000000\" points=\"457.9377,-187.798 450.8607,-179.9134 451.4761,-190.4904 457.9377,-187.798\"/>\n</g>\n<!-- [10, 3] -->\n<g id=\"node11\" class=\"node\">\n<title>[10, 3]</title>\n<ellipse fill=\"none\" stroke=\"#000000\" cx=\"529.3968\" cy=\"-162\" rx=\"36.2938\" ry=\"18\"/>\n<text text-anchor=\"middle\" x=\"529.3968\" y=\"-158.3\" font-family=\"Times,serif\" font-size=\"14.00\" fill=\"#000000\">[10, 3]</text>\n</g>\n<!-- [[4, 1], [10, 3]]&#45;&gt;[10, 3] -->\n<g id=\"edge10\" class=\"edge\">\n<title>[[4, 1], [10, 3]]&#45;&gt;[10, 3]</title>\n<path fill=\"none\" stroke=\"#000000\" d=\"M487.2395,-216.2022C494.0533,-207.4416 502.3851,-196.7293 509.837,-187.1482\"/>\n<polygon fill=\"#000000\" stroke=\"#000000\" points=\"512.7222,-189.1396 516.0989,-179.0972 507.1967,-184.842 512.7222,-189.1396\"/>\n</g>\n<!-- [[10, 5], [8, 4]] -->\n<g id=\"node6\" class=\"node\">\n<title>[[10, 5], [8, 4]]</title>\n<ellipse fill=\"none\" stroke=\"#000000\" cx=\"79.3968\" cy=\"-90\" rx=\"67.6881\" ry=\"18\"/>\n<text text-anchor=\"middle\" x=\"79.3968\" y=\"-86.3\" font-family=\"Times,serif\" font-size=\"14.00\" fill=\"#000000\">[[10, 5], [8, 4]]</text>\n</g>\n<!-- [[10, 5], [4, 13], [8, 4]]&#45;&gt;[[10, 5], [8, 4]] -->\n<g id=\"edge5\" class=\"edge\">\n<title>[[10, 5], [4, 13], [8, 4]]&#45;&gt;[[10, 5], [8, 4]]</title>\n<path fill=\"none\" stroke=\"#000000\" d=\"M127.5765,-144.2022C119.8263,-135.4832 110.3577,-124.8311 101.8723,-115.2849\"/>\n<polygon fill=\"#000000\" stroke=\"#000000\" points=\"104.2946,-112.7419 95.035,-107.593 99.0627,-117.3924 104.2946,-112.7419\"/>\n</g>\n<!-- [[4, 13]] -->\n<g id=\"node7\" class=\"node\">\n<title>[[4, 13]]</title>\n<ellipse fill=\"none\" stroke=\"#000000\" cx=\"207.3968\" cy=\"-90\" rx=\"42.4939\" ry=\"18\"/>\n<text text-anchor=\"middle\" x=\"207.3968\" y=\"-86.3\" font-family=\"Times,serif\" font-size=\"14.00\" fill=\"#000000\">[[4, 13]]</text>\n</g>\n<!-- [[10, 5], [4, 13], [8, 4]]&#45;&gt;[[4, 13]] -->\n<g id=\"edge6\" class=\"edge\">\n<title>[[10, 5], [4, 13], [8, 4]]&#45;&gt;[[4, 13]]</title>\n<path fill=\"none\" stroke=\"#000000\" d=\"M159.217,-144.2022C167.0829,-135.3531 176.7188,-124.5127 185.3005,-114.8583\"/>\n<polygon fill=\"#000000\" stroke=\"#000000\" points=\"188.1715,-116.8966 192.1992,-107.0972 182.9396,-112.2461 188.1715,-116.8966\"/>\n</g>\n<!-- [10, 5] -->\n<g id=\"node8\" class=\"node\">\n<title>[10, 5]</title>\n<ellipse fill=\"none\" stroke=\"#000000\" cx=\"36.3968\" cy=\"-18\" rx=\"36.2938\" ry=\"18\"/>\n<text text-anchor=\"middle\" x=\"36.3968\" y=\"-14.3\" font-family=\"Times,serif\" font-size=\"14.00\" fill=\"#000000\">[10, 5]</text>\n</g>\n<!-- [[10, 5], [8, 4]]&#45;&gt;[10, 5] -->\n<g id=\"edge7\" class=\"edge\">\n<title>[[10, 5], [8, 4]]&#45;&gt;[10, 5]</title>\n<path fill=\"none\" stroke=\"#000000\" d=\"M68.7676,-72.2022C63.6789,-63.6817 57.4877,-53.315 51.8878,-43.9385\"/>\n<polygon fill=\"#000000\" stroke=\"#000000\" points=\"54.8877,-42.1354 46.7553,-35.3446 48.8779,-45.7246 54.8877,-42.1354\"/>\n</g>\n<!-- [8, 4] -->\n<g id=\"node9\" class=\"node\">\n<title>[8, 4]</title>\n<ellipse fill=\"none\" stroke=\"#000000\" cx=\"122.3968\" cy=\"-18\" rx=\"31.3957\" ry=\"18\"/>\n<text text-anchor=\"middle\" x=\"122.3968\" y=\"-14.3\" font-family=\"Times,serif\" font-size=\"14.00\" fill=\"#000000\">[8, 4]</text>\n</g>\n<!-- [[10, 5], [8, 4]]&#45;&gt;[8, 4] -->\n<g id=\"edge8\" class=\"edge\">\n<title>[[10, 5], [8, 4]]&#45;&gt;[8, 4]</title>\n<path fill=\"none\" stroke=\"#000000\" d=\"M90.026,-72.2022C95.1524,-63.6186 101.3977,-53.1613 107.0301,-43.7303\"/>\n<polygon fill=\"#000000\" stroke=\"#000000\" points=\"110.0634,-45.4773 112.1859,-35.0972 104.0536,-41.8881 110.0634,-45.4773\"/>\n</g>\n</g>\n</svg>\n"
          },
          "metadata": {},
          "execution_count": 70
        }
      ]
    },
    {
      "cell_type": "code",
      "source": [
        "print(' WEIGHTS :AREAS OF INIDIVIDUAL PARTITIONS')\n",
        "c"
      ],
      "metadata": {
        "colab": {
          "base_uri": "https://localhost:8080/",
          "height": 481
        },
        "id": "mZuMkYpSTQYM",
        "outputId": "ffa84908-5d45-4aa7-b8c4-00cb93d4c7f5"
      },
      "execution_count": 71,
      "outputs": [
        {
          "output_type": "stream",
          "name": "stdout",
          "text": [
            " WEIGHTS :AREAS OF INIDIVIDUAL PARTITIONS\n"
          ]
        },
        {
          "output_type": "execute_result",
          "data": {
            "text/plain": [
              "<graphviz.dot.Graph at 0x7f6574653410>"
            ],
            "image/svg+xml": "<?xml version=\"1.0\" encoding=\"UTF-8\" standalone=\"no\"?>\n<!DOCTYPE svg PUBLIC \"-//W3C//DTD SVG 1.1//EN\"\n \"http://www.w3.org/Graphics/SVG/1.1/DTD/svg11.dtd\">\n<!-- Generated by graphviz version 2.40.1 (20161225.0304)\n -->\n<!-- Title: weights_of_partition Pages: 1 -->\n<svg width=\"350pt\" height=\"332pt\"\n viewBox=\"0.00 0.00 350.00 332.00\" xmlns=\"http://www.w3.org/2000/svg\" xmlns:xlink=\"http://www.w3.org/1999/xlink\">\n<g id=\"graph0\" class=\"graph\" transform=\"scale(1 1) rotate(0) translate(4 328)\">\n<title>weights_of_partition</title>\n<polygon fill=\"#ffffff\" stroke=\"transparent\" points=\"-4,4 -4,-328 346,-328 346,4 -4,4\"/>\n<!-- 216 -->\n<g id=\"node1\" class=\"node\">\n<title>216</title>\n<polygon fill=\"none\" stroke=\"#000000\" points=\"234,-324 180,-324 180,-288 234,-288 234,-324\"/>\n<text text-anchor=\"middle\" x=\"207\" y=\"-302.3\" font-family=\"Times,serif\" font-size=\"14.00\" fill=\"#000000\">216</text>\n</g>\n<!-- 182 -->\n<g id=\"node2\" class=\"node\">\n<title>182</title>\n<polygon fill=\"none\" stroke=\"#000000\" points=\"198,-252 144,-252 144,-216 198,-216 198,-252\"/>\n<text text-anchor=\"middle\" x=\"171\" y=\"-230.3\" font-family=\"Times,serif\" font-size=\"14.00\" fill=\"#000000\">182</text>\n</g>\n<!-- 216&#45;&#45;182 -->\n<g id=\"edge1\" class=\"edge\">\n<title>216&#45;&#45;182</title>\n<path fill=\"none\" stroke=\"#000000\" d=\"M197.9157,-287.8314C192.5,-277 185.6438,-263.2876 180.2066,-252.4133\"/>\n</g>\n<!-- 34 -->\n<g id=\"node3\" class=\"node\">\n<title>34</title>\n<polygon fill=\"none\" stroke=\"#000000\" points=\"270,-252 216,-252 216,-216 270,-216 270,-252\"/>\n<text text-anchor=\"middle\" x=\"243\" y=\"-230.3\" font-family=\"Times,serif\" font-size=\"14.00\" fill=\"#000000\">34</text>\n</g>\n<!-- 216&#45;&#45;34 -->\n<g id=\"edge2\" class=\"edge\">\n<title>216&#45;&#45;34</title>\n<path fill=\"none\" stroke=\"#000000\" d=\"M216.0843,-287.8314C221.5,-277 228.3562,-263.2876 233.7934,-252.4133\"/>\n</g>\n<!-- 134 -->\n<g id=\"node4\" class=\"node\">\n<title>134</title>\n<polygon fill=\"none\" stroke=\"#000000\" points=\"126,-180 72,-180 72,-144 126,-144 126,-180\"/>\n<text text-anchor=\"middle\" x=\"99\" y=\"-158.3\" font-family=\"Times,serif\" font-size=\"14.00\" fill=\"#000000\">134</text>\n</g>\n<!-- 182&#45;&#45;134 -->\n<g id=\"edge3\" class=\"edge\">\n<title>182&#45;&#45;134</title>\n<path fill=\"none\" stroke=\"#000000\" d=\"M152.8314,-215.8314C142,-205 128.2876,-191.2876 117.4133,-180.4133\"/>\n</g>\n<!-- 48 -->\n<g id=\"node5\" class=\"node\">\n<title>48</title>\n<polygon fill=\"none\" stroke=\"#000000\" points=\"198,-180 144,-180 144,-144 198,-144 198,-180\"/>\n<text text-anchor=\"middle\" x=\"171\" y=\"-158.3\" font-family=\"Times,serif\" font-size=\"14.00\" fill=\"#000000\">48</text>\n</g>\n<!-- 182&#45;&#45;48 -->\n<g id=\"edge4\" class=\"edge\">\n<title>182&#45;&#45;48</title>\n<path fill=\"none\" stroke=\"#000000\" d=\"M171,-215.8314C171,-205 171,-191.2876 171,-180.4133\"/>\n</g>\n<!-- 4 -->\n<g id=\"node10\" class=\"node\">\n<title>4</title>\n<polygon fill=\"none\" stroke=\"#000000\" points=\"270,-180 216,-180 216,-144 270,-144 270,-180\"/>\n<text text-anchor=\"middle\" x=\"243\" y=\"-158.3\" font-family=\"Times,serif\" font-size=\"14.00\" fill=\"#000000\">4</text>\n</g>\n<!-- 34&#45;&#45;4 -->\n<g id=\"edge9\" class=\"edge\">\n<title>34&#45;&#45;4</title>\n<path fill=\"none\" stroke=\"#000000\" d=\"M243,-215.8314C243,-205 243,-191.2876 243,-180.4133\"/>\n</g>\n<!-- 30 -->\n<g id=\"node11\" class=\"node\">\n<title>30</title>\n<polygon fill=\"none\" stroke=\"#000000\" points=\"342,-180 288,-180 288,-144 342,-144 342,-180\"/>\n<text text-anchor=\"middle\" x=\"315\" y=\"-158.3\" font-family=\"Times,serif\" font-size=\"14.00\" fill=\"#000000\">30</text>\n</g>\n<!-- 34&#45;&#45;30 -->\n<g id=\"edge10\" class=\"edge\">\n<title>34&#45;&#45;30</title>\n<path fill=\"none\" stroke=\"#000000\" d=\"M261.1686,-215.8314C272,-205 285.7124,-191.2876 296.5867,-180.4133\"/>\n</g>\n<!-- 82 -->\n<g id=\"node6\" class=\"node\">\n<title>82</title>\n<polygon fill=\"none\" stroke=\"#000000\" points=\"90,-108 36,-108 36,-72 90,-72 90,-108\"/>\n<text text-anchor=\"middle\" x=\"63\" y=\"-86.3\" font-family=\"Times,serif\" font-size=\"14.00\" fill=\"#000000\">82</text>\n</g>\n<!-- 134&#45;&#45;82 -->\n<g id=\"edge5\" class=\"edge\">\n<title>134&#45;&#45;82</title>\n<path fill=\"none\" stroke=\"#000000\" d=\"M89.9157,-143.8314C84.5,-133 77.6438,-119.2876 72.2066,-108.4133\"/>\n</g>\n<!-- 52 -->\n<g id=\"node7\" class=\"node\">\n<title>52</title>\n<polygon fill=\"none\" stroke=\"#000000\" points=\"162,-108 108,-108 108,-72 162,-72 162,-108\"/>\n<text text-anchor=\"middle\" x=\"135\" y=\"-86.3\" font-family=\"Times,serif\" font-size=\"14.00\" fill=\"#000000\">52</text>\n</g>\n<!-- 134&#45;&#45;52 -->\n<g id=\"edge6\" class=\"edge\">\n<title>134&#45;&#45;52</title>\n<path fill=\"none\" stroke=\"#000000\" d=\"M108.0843,-143.8314C113.5,-133 120.3562,-119.2876 125.7934,-108.4133\"/>\n</g>\n<!-- 50 -->\n<g id=\"node8\" class=\"node\">\n<title>50</title>\n<polygon fill=\"none\" stroke=\"#000000\" points=\"54,-36 0,-36 0,0 54,0 54,-36\"/>\n<text text-anchor=\"middle\" x=\"27\" y=\"-14.3\" font-family=\"Times,serif\" font-size=\"14.00\" fill=\"#000000\">50</text>\n</g>\n<!-- 82&#45;&#45;50 -->\n<g id=\"edge7\" class=\"edge\">\n<title>82&#45;&#45;50</title>\n<path fill=\"none\" stroke=\"#000000\" d=\"M53.9157,-71.8314C48.5,-61 41.6438,-47.2876 36.2066,-36.4133\"/>\n</g>\n<!-- 32 -->\n<g id=\"node9\" class=\"node\">\n<title>32</title>\n<polygon fill=\"none\" stroke=\"#000000\" points=\"126,-36 72,-36 72,0 126,0 126,-36\"/>\n<text text-anchor=\"middle\" x=\"99\" y=\"-14.3\" font-family=\"Times,serif\" font-size=\"14.00\" fill=\"#000000\">32</text>\n</g>\n<!-- 82&#45;&#45;32 -->\n<g id=\"edge8\" class=\"edge\">\n<title>82&#45;&#45;32</title>\n<path fill=\"none\" stroke=\"#000000\" d=\"M72.0843,-71.8314C77.5,-61 84.3562,-47.2876 89.7934,-36.4133\"/>\n</g>\n</g>\n</svg>\n"
          },
          "metadata": {},
          "execution_count": 71
        }
      ]
    },
    {
      "cell_type": "markdown",
      "source": [
        "Output partition boxes\n",
        "\n",
        "Below we have represented the partition in block form which follows Depth first search format.\n",
        "\n",
        "Here each number represents the index of the points with respect to the input array.\n",
        "\n",
        "These indices are getting partitioned in every recursion cycle."
      ],
      "metadata": {
        "id": "64e1V2cY8UHa"
      }
    },
    {
      "cell_type": "code",
      "source": [
        "h"
      ],
      "metadata": {
        "colab": {
          "base_uri": "https://localhost:8080/",
          "height": 80
        },
        "id": "yOnHrE5U6204",
        "outputId": "f8666de6-5cb0-4474-d739-feb43a6e195d"
      },
      "execution_count": 72,
      "outputs": [
        {
          "output_type": "execute_result",
          "data": {
            "text/plain": [
              "<graphviz.dot.Graph at 0x7f6574653c10>"
            ],
            "image/svg+xml": "<?xml version=\"1.0\" encoding=\"UTF-8\" standalone=\"no\"?>\n<!DOCTYPE svg PUBLIC \"-//W3C//DTD SVG 1.1//EN\"\n \"http://www.w3.org/Graphics/SVG/1.1/DTD/svg11.dtd\">\n<!-- Generated by graphviz version 2.40.1 (20161225.0304)\n -->\n<!-- Title: output_partition_boxes Pages: 1 -->\n<svg width=\"504pt\" height=\"44pt\"\n viewBox=\"0.00 0.00 504.00 44.00\" xmlns=\"http://www.w3.org/2000/svg\" xmlns:xlink=\"http://www.w3.org/1999/xlink\">\n<g id=\"graph0\" class=\"graph\" transform=\"scale(1 1) rotate(0) translate(4 40)\">\n<title>output_partition_boxes</title>\n<polygon fill=\"#ffffff\" stroke=\"transparent\" points=\"-4,4 -4,-40 500,-40 500,4 -4,4\"/>\n<!-- 0 -->\n<g id=\"node1\" class=\"node\">\n<title>0</title>\n<polygon fill=\"none\" stroke=\"#000000\" points=\"130,-36 0,-36 0,0 130,0 130,-36\"/>\n<polygon fill=\"none\" stroke=\"#000000\" points=\"11,-7 11,-28 79,-28 79,-7 11,-7\"/>\n<text text-anchor=\"start\" x=\"14\" y=\"-13.8\" font-family=\"Times,serif\" font-size=\"14.00\" fill=\"#000000\">[0, 1, 2, 4]</text>\n<polygon fill=\"none\" stroke=\"#000000\" points=\"81,-7 81,-28 119,-28 119,-7 81,-7\"/>\n<text text-anchor=\"start\" x=\"84\" y=\"-13.8\" font-family=\"Times,serif\" font-size=\"14.00\" fill=\"#000000\">[5, 3]</text>\n<polygon fill=\"none\" stroke=\"#000000\" points=\"8,-4.5 8,-31.5 122,-31.5 122,-4.5 8,-4.5\"/>\n</g>\n<!-- 1 -->\n<g id=\"node2\" class=\"node\">\n<title>1</title>\n<polygon fill=\"none\" stroke=\"#000000\" points=\"248,-36 148,-36 148,0 248,0 248,-36\"/>\n<polygon fill=\"none\" stroke=\"#000000\" points=\"159,-7 159,-28 212,-28 212,-7 159,-7\"/>\n<text text-anchor=\"start\" x=\"162\" y=\"-13.8\" font-family=\"Times,serif\" font-size=\"14.00\" fill=\"#000000\">[0, 2, 4]</text>\n<polygon fill=\"none\" stroke=\"#000000\" points=\"214,-7 214,-28 237,-28 237,-7 214,-7\"/>\n<text text-anchor=\"start\" x=\"217\" y=\"-13.8\" font-family=\"Times,serif\" font-size=\"14.00\" fill=\"#000000\">[1]</text>\n<polygon fill=\"none\" stroke=\"#000000\" points=\"156,-4.5 156,-31.5 240,-31.5 240,-4.5 156,-4.5\"/>\n</g>\n<!-- 2 -->\n<g id=\"node3\" class=\"node\">\n<title>2</title>\n<polygon fill=\"none\" stroke=\"#000000\" points=\"351.5,-36 266.5,-36 266.5,0 351.5,0 351.5,-36\"/>\n<polygon fill=\"none\" stroke=\"#000000\" points=\"278,-7 278,-28 316,-28 316,-7 278,-7\"/>\n<text text-anchor=\"start\" x=\"281\" y=\"-13.8\" font-family=\"Times,serif\" font-size=\"14.00\" fill=\"#000000\">[0, 4]</text>\n<polygon fill=\"none\" stroke=\"#000000\" points=\"318,-7 318,-28 341,-28 341,-7 318,-7\"/>\n<text text-anchor=\"start\" x=\"321\" y=\"-13.8\" font-family=\"Times,serif\" font-size=\"14.00\" fill=\"#000000\">[2]</text>\n<polygon fill=\"none\" stroke=\"#000000\" points=\"274.5,-4.5 274.5,-31.5 343.5,-31.5 343.5,-4.5 274.5,-4.5\"/>\n</g>\n<!-- 3 -->\n<g id=\"node4\" class=\"node\">\n<title>3</title>\n<polygon fill=\"none\" stroke=\"#000000\" points=\"424,-36 370,-36 370,0 424,0 424,-36\"/>\n<polygon fill=\"none\" stroke=\"#000000\" points=\"382,-7 382,-28 396,-28 396,-7 382,-7\"/>\n<text text-anchor=\"start\" x=\"385\" y=\"-13.8\" font-family=\"Times,serif\" font-size=\"14.00\" fill=\"#000000\">0</text>\n<polygon fill=\"none\" stroke=\"#000000\" points=\"398,-7 398,-28 412,-28 412,-7 398,-7\"/>\n<text text-anchor=\"start\" x=\"401\" y=\"-13.8\" font-family=\"Times,serif\" font-size=\"14.00\" fill=\"#000000\">4</text>\n<polygon fill=\"none\" stroke=\"#000000\" points=\"379,-4.5 379,-31.5 415,-31.5 415,-4.5 379,-4.5\"/>\n</g>\n<!-- 4 -->\n<g id=\"node5\" class=\"node\">\n<title>4</title>\n<polygon fill=\"none\" stroke=\"#000000\" points=\"496,-36 442,-36 442,0 496,0 496,-36\"/>\n<polygon fill=\"none\" stroke=\"#000000\" points=\"454,-7 454,-28 468,-28 468,-7 454,-7\"/>\n<text text-anchor=\"start\" x=\"457\" y=\"-13.8\" font-family=\"Times,serif\" font-size=\"14.00\" fill=\"#000000\">5</text>\n<polygon fill=\"none\" stroke=\"#000000\" points=\"470,-7 470,-28 484,-28 484,-7 470,-7\"/>\n<text text-anchor=\"start\" x=\"473\" y=\"-13.8\" font-family=\"Times,serif\" font-size=\"14.00\" fill=\"#000000\">3</text>\n<polygon fill=\"none\" stroke=\"#000000\" points=\"451,-4.5 451,-31.5 487,-31.5 487,-4.5 451,-4.5\"/>\n</g>\n</g>\n</svg>\n"
          },
          "metadata": {},
          "execution_count": 72
        }
      ]
    },
    {
      "cell_type": "markdown",
      "source": [
        "***One may find all the relevant outputs in the folder named \"output_folder\" ***.\n",
        "\n",
        "1)Partition_tree.gv.svg has the visual representation of the partition tree.\n",
        "\n",
        "2)output_partition_boxes.gv.svg has visual representation of partition in form of rectangular partitions.\n",
        "\n",
        "3)weights_of_partition.gv.svg has the weights of all the partitions in a graphical form which corresponds to the partition tree"
      ],
      "metadata": {
        "id": "ur2iO2CEDlZd"
      }
    },
    {
      "cell_type": "code",
      "source": [
        "dot.format = 'dot'\n",
        "dot.render(directory='/content/output_folder')\n",
        "dot.format ='svg'\n",
        "dot.render(directory='/content/output_folder')\n",
        "c.format='svg'\n",
        "c.render(directory='/content/output_folder')\n",
        "h.format='svg'\n",
        "h.render(directory='/content/output_folder')"
      ],
      "metadata": {
        "colab": {
          "base_uri": "https://localhost:8080/",
          "height": 35
        },
        "id": "QvPXy2sTN2s8",
        "outputId": "11fbd413-ea20-4e68-f29b-8ede3e7eaf34"
      },
      "execution_count": 73,
      "outputs": [
        {
          "output_type": "execute_result",
          "data": {
            "application/vnd.google.colaboratory.intrinsic+json": {
              "type": "string"
            },
            "text/plain": [
              "'/content/output_folder/output_partition_boxes.gv.svg'"
            ]
          },
          "metadata": {},
          "execution_count": 73
        }
      ]
    },
    {
      "cell_type": "markdown",
      "source": [
        "***One may find all the relevant outputs in the folder named \"output_folder\" .***"
      ],
      "metadata": {
        "id": "vtcwue-N9Kdz"
      }
    }
  ]
}
